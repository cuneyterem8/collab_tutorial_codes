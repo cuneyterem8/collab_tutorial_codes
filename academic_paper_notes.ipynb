{
  "nbformat": 4,
  "nbformat_minor": 0,
  "metadata": {
    "colab": {
      "provenance": [],
      "authorship_tag": "ABX9TyORtT3J4HAswtl+UIMW6wuR",
      "include_colab_link": true
    },
    "kernelspec": {
      "name": "python3",
      "display_name": "Python 3"
    },
    "language_info": {
      "name": "python"
    }
  },
  "cells": [
    {
      "cell_type": "markdown",
      "metadata": {
        "id": "view-in-github",
        "colab_type": "text"
      },
      "source": [
        "<a href=\"https://colab.research.google.com/github/cuneyterem8/collab_tutorial_codes/blob/main/academic_paper_notes.ipynb\" target=\"_parent\"><img src=\"https://colab.research.google.com/assets/colab-badge.svg\" alt=\"Open In Colab\"/></a>"
      ]
    },
    {
      "cell_type": "markdown",
      "source": [
        "notable academics, scientist;\n",
        "\n",
        "Geoffrey Hinton, Citations 877417, Prof. Computer Science, University of Toronto,\\\n",
        "Yoshua Bengio, Citations 876196, Professor of Computer Science, University of Montreal, \\\n",
        "Ilya Sutskever, Citations 579283, Computer Scientist, Co-Founder and Chief Scientist of OpenAI, \\\n",
        "Yann LeCun, Citations 386661, Professor of Computer Science, New York University, Chief AI Scientist at Facebook, \\\n",
        "Ian Goodfellow, Citations 331928, Computer Scientist, Google DeepMind, \\\n",
        "Andrew Ng, Citations 270406, Professor of Computer Science, Stanford University, \\\n",
        "Koray Kavukcuoglu, Citations 238481, Computer Scientist, Google DeepMind"
      ],
      "metadata": {
        "id": "0-llcZv-evUd"
      }
    },
    {
      "cell_type": "markdown",
      "source": [
        "academic papers;\n",
        "\n",
        "2021, Cited by 8963, Lora: Low-rank adaptation of large language models\n",
        "\n",
        "2020, Cited by 50034, An image is worth 16x16 words: Transformers for image recognition at scale\n",
        "\n",
        "2020, Cited by 13544, GANs, Generative adversarial networks\n",
        "\n",
        "2020, Cited by 5680, Transformers: State-of-the-art natural language processing\n",
        "\n",
        "2020, Cited by 4837, RAG, Retrieval-augmented generation for knowledge-intensive nlp tasks\n",
        "\n",
        "2018, Cited by 121299, BERT: Pre-training of deep bidirectional transformers for language understanding\n",
        "\n",
        "2017, Cited by 144741, Attention is all you need\n",
        "\n",
        "2016, Cited by 247726, Deep residual learning for image recognition\n",
        "\n",
        "2016, Cited by 55293, YOLO, You only look once: Unified, real-time object detection\n",
        "\n",
        "2016, Cited by 71119, Deep learning Book\n",
        "\n",
        "2015, Cited by 88215, Deep learning\n",
        "\n",
        "2012, Cited by 136485, Imagenet classification with deep convolutional neural networks\n",
        "\n",
        "2000, Cited by 11935, A neural probabilistic language model\n",
        "\n",
        "1998, Cited by 71231, Gradient-based learning applied to document recognition\n",
        "\n"
      ],
      "metadata": {
        "id": "Ur4DCz5tevR_"
      }
    },
    {
      "cell_type": "markdown",
      "source": [],
      "metadata": {
        "id": "Bck7MBpyevLT"
      }
    },
    {
      "cell_type": "code",
      "source": [],
      "metadata": {
        "id": "wWbRRHqUtgc9"
      },
      "execution_count": null,
      "outputs": []
    }
  ]
}